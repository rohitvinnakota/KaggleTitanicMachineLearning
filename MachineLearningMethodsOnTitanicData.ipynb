{
 "cells": [
  {
   "cell_type": "markdown",
   "metadata": {},
   "source": [
    "# Titanic: Machine Learning from Disaster"
   ]
  },
  {
   "cell_type": "markdown",
   "metadata": {},
   "source": [
    "The following project is my solution for Kaggle's \"Titanic: Machine Learning from Disaster\" project. The primary goals I hope to accomplish is to utilize and demonstrate traditional Machine Learning methods. More information about this project can be found at: https://www.kaggle.com/c/titanic.  \n",
    "\n",
    "I am going to try a variety of approaches starting with one that I have worked on in the past (found here at https://github.com/rohitvinnakota/Investigating-Titanic-Data). I will be using my initial prediction as a foundation to test other ML methods on. I will be using the scikit-learn python library to handle the majority of my number crunching. There are 2 datasets provided. The \"training set\" and the \"testing set\". The training set is used to derive models and estimations from and the test set is used to see how accurately the derived model can predict whether a passenger survived or not. To start with, let us import the test set into our code and see what it looks like. We can use libraries such as NumPy or Pandas in Python to do so."
   ]
  },
  {
   "cell_type": "code",
   "execution_count": 1,
   "metadata": {},
   "outputs": [
    {
     "data": {
      "text/html": [
       "<div>\n",
       "<style scoped>\n",
       "    .dataframe tbody tr th:only-of-type {\n",
       "        vertical-align: middle;\n",
       "    }\n",
       "\n",
       "    .dataframe tbody tr th {\n",
       "        vertical-align: top;\n",
       "    }\n",
       "\n",
       "    .dataframe thead th {\n",
       "        text-align: right;\n",
       "    }\n",
       "</style>\n",
       "<table border=\"1\" class=\"dataframe\">\n",
       "  <thead>\n",
       "    <tr style=\"text-align: right;\">\n",
       "      <th></th>\n",
       "      <th>PassengerId</th>\n",
       "      <th>Survived</th>\n",
       "      <th>Pclass</th>\n",
       "      <th>Age</th>\n",
       "      <th>SibSp</th>\n",
       "      <th>Parch</th>\n",
       "      <th>Fare</th>\n",
       "    </tr>\n",
       "  </thead>\n",
       "  <tbody>\n",
       "    <tr>\n",
       "      <th>count</th>\n",
       "      <td>891.000000</td>\n",
       "      <td>891.000000</td>\n",
       "      <td>891.000000</td>\n",
       "      <td>714.000000</td>\n",
       "      <td>891.000000</td>\n",
       "      <td>891.000000</td>\n",
       "      <td>891.000000</td>\n",
       "    </tr>\n",
       "    <tr>\n",
       "      <th>mean</th>\n",
       "      <td>446.000000</td>\n",
       "      <td>0.383838</td>\n",
       "      <td>2.308642</td>\n",
       "      <td>29.699118</td>\n",
       "      <td>0.523008</td>\n",
       "      <td>0.381594</td>\n",
       "      <td>32.204208</td>\n",
       "    </tr>\n",
       "    <tr>\n",
       "      <th>std</th>\n",
       "      <td>257.353842</td>\n",
       "      <td>0.486592</td>\n",
       "      <td>0.836071</td>\n",
       "      <td>14.526497</td>\n",
       "      <td>1.102743</td>\n",
       "      <td>0.806057</td>\n",
       "      <td>49.693429</td>\n",
       "    </tr>\n",
       "    <tr>\n",
       "      <th>min</th>\n",
       "      <td>1.000000</td>\n",
       "      <td>0.000000</td>\n",
       "      <td>1.000000</td>\n",
       "      <td>0.420000</td>\n",
       "      <td>0.000000</td>\n",
       "      <td>0.000000</td>\n",
       "      <td>0.000000</td>\n",
       "    </tr>\n",
       "    <tr>\n",
       "      <th>25%</th>\n",
       "      <td>223.500000</td>\n",
       "      <td>0.000000</td>\n",
       "      <td>2.000000</td>\n",
       "      <td>20.125000</td>\n",
       "      <td>0.000000</td>\n",
       "      <td>0.000000</td>\n",
       "      <td>7.910400</td>\n",
       "    </tr>\n",
       "    <tr>\n",
       "      <th>50%</th>\n",
       "      <td>446.000000</td>\n",
       "      <td>0.000000</td>\n",
       "      <td>3.000000</td>\n",
       "      <td>28.000000</td>\n",
       "      <td>0.000000</td>\n",
       "      <td>0.000000</td>\n",
       "      <td>14.454200</td>\n",
       "    </tr>\n",
       "    <tr>\n",
       "      <th>75%</th>\n",
       "      <td>668.500000</td>\n",
       "      <td>1.000000</td>\n",
       "      <td>3.000000</td>\n",
       "      <td>38.000000</td>\n",
       "      <td>1.000000</td>\n",
       "      <td>0.000000</td>\n",
       "      <td>31.000000</td>\n",
       "    </tr>\n",
       "    <tr>\n",
       "      <th>max</th>\n",
       "      <td>891.000000</td>\n",
       "      <td>1.000000</td>\n",
       "      <td>3.000000</td>\n",
       "      <td>80.000000</td>\n",
       "      <td>8.000000</td>\n",
       "      <td>6.000000</td>\n",
       "      <td>512.329200</td>\n",
       "    </tr>\n",
       "  </tbody>\n",
       "</table>\n",
       "</div>"
      ],
      "text/plain": [
       "       PassengerId    Survived      Pclass         Age       SibSp  \\\n",
       "count   891.000000  891.000000  891.000000  714.000000  891.000000   \n",
       "mean    446.000000    0.383838    2.308642   29.699118    0.523008   \n",
       "std     257.353842    0.486592    0.836071   14.526497    1.102743   \n",
       "min       1.000000    0.000000    1.000000    0.420000    0.000000   \n",
       "25%     223.500000    0.000000    2.000000   20.125000    0.000000   \n",
       "50%     446.000000    0.000000    3.000000   28.000000    0.000000   \n",
       "75%     668.500000    1.000000    3.000000   38.000000    1.000000   \n",
       "max     891.000000    1.000000    3.000000   80.000000    8.000000   \n",
       "\n",
       "            Parch        Fare  \n",
       "count  891.000000  891.000000  \n",
       "mean     0.381594   32.204208  \n",
       "std      0.806057   49.693429  \n",
       "min      0.000000    0.000000  \n",
       "25%      0.000000    7.910400  \n",
       "50%      0.000000   14.454200  \n",
       "75%      0.000000   31.000000  \n",
       "max      6.000000  512.329200  "
      ]
     },
     "execution_count": 1,
     "metadata": {},
     "output_type": "execute_result"
    }
   ],
   "source": [
    "import numpy as np\n",
    "import pandas as pd\n",
    "%matplotlib inline\n",
    "import matplotlib.pyplot as plt\n",
    "import seaborn as sns\n",
    "\n",
    "\n",
    "#Reading the training data\n",
    "train_data = pd.read_csv('train.csv')\n",
    "test_data = pd.read_csv('test.csv')\n",
    "\n",
    "#Getting an overview of what data looks like\n",
    "train_data.describe()"
   ]
  },
  {
   "cell_type": "markdown",
   "metadata": {},
   "source": [
    "From a quick glance at the data and referencing Kaggle. We have the following variables to work with:\n",
    "\n",
    "1) PassengerId: Unique ID for each passenger \n",
    "\n",
    "2) Survived: 0 = No, 1 = Yes\n",
    "\n",
    "3) Pclass:  1st = Upper\n",
    "            2nd = Middle\n",
    "            3rd = Lower\n",
    "            \n",
    "            This refers to the socio economic status of the passenger\n",
    "\n",
    "\n",
    "4) Age\n",
    "\n",
    "5) SibSp: Number of siblings and/or spouses for the passenger\n",
    "\n",
    "6) Parch: Number of parents and/or children for the passenger\n",
    "\n",
    "7) Fare\n"
   ]
  },
  {
   "cell_type": "markdown",
   "metadata": {},
   "source": [
    "We can generate 3 charts to see the association between age, gender, and class on survival. First, let us check each of these independently. While there are other variables, they either have too much missing data or are irrelevant to the data at hand(Cabin, Embarket, Ticket, Name)."
   ]
  },
  {
   "cell_type": "code",
   "execution_count": 2,
   "metadata": {},
   "outputs": [
    {
     "data": {
      "text/plain": [
       "[Text(0,0.5,'Percentile that survived'), Text(0.5,0,'Class')]"
      ]
     },
     "execution_count": 2,
     "metadata": {},
     "output_type": "execute_result"
    },
    {
     "data": {
      "image/png": "[encoded data removed]",
      "text/plain": [
       "<Figure size 432x288 with 1 Axes>"
      ]
     },
     "metadata": {
      "needs_background": "light"
     },
     "output_type": "display_data"
    }
   ],
   "source": [
    "import warnings\n",
    "warnings.filterwarnings('ignore')\n",
    "\n",
    "g1 = sns.barplot(data =train_data,x='Pclass',y='Survived')\n",
    "g1.set(xlabel = 'Class', ylabel = 'Percentile that survived')"
   ]
  },
  {
   "cell_type": "code",
   "execution_count": 3,
   "metadata": {},
   "outputs": [
    {
     "data": {
      "image/png": "[encoded data removed]",
      "text/plain": [
       "<Figure size 432x288 with 1 Axes>"
      ]
     },
     "metadata": {
      "needs_background": "light"
     },
     "output_type": "display_data"
    }
   ],
   "source": [
    "train_data['Age_group'] = pd.cut(train_data['Age'], bins= 8, include_lowest=True)\n",
    "g2 = sns.barplot(data =train_data,x='Age_group',y='Survived',orient =0)\n",
    "sns.set_context(\"poster\",font_scale=1)\n",
    "sns.set(rc={'figure.figsize':(1,8.27)})"
   ]
  },
  {
   "cell_type": "code",
   "execution_count": 4,
   "metadata": {},
   "outputs": [
    {
     "data": {
      "image/png": "[encoded data removed]",
      "text/plain": [
       "<Figure size 72x595.44 with 1 Axes>"
      ]
     },
     "metadata": {},
     "output_type": "display_data"
    }
   ],
   "source": [
    "sns.barplot(data = train_data, x='Sex',y='Survived')\n",
    "sns.set(rc={'figure.figsize':(4,5)})"
   ]
  },
  {
   "cell_type": "markdown",
   "metadata": {},
   "source": [
    "As we can see from the data above, children under the age of 10, class 1, and females have the highest chance of survival. \n",
    "\n",
    "Note that this project is an example of supervised learning. i.e. there is training data that already exists and our model relies on insights gained from said data. We can approach this using either a regression based approach or a classification based approach. Since our target variable (Survived) is categorical, a classification based one seems to be the most appropriate. To begin with, let us construct a simple decision tree using sklearn"
   ]
  },
  {
   "cell_type": "code",
   "execution_count": 5,
   "metadata": {},
   "outputs": [
    {
     "data": {
      "text/plain": [
       "DecisionTreeClassifier(class_weight=None, criterion='gini', max_depth=None,\n",
       "            max_features=None, max_leaf_nodes=None,\n",
       "            min_impurity_decrease=0.0, min_impurity_split=None,\n",
       "            min_samples_leaf=1, min_samples_split=2,\n",
       "            min_weight_fraction_leaf=0.0, presort=False, random_state=1,\n",
       "            splitter='best')"
      ]
     },
     "execution_count": 5,
     "metadata": {},
     "output_type": "execute_result"
    }
   ],
   "source": [
    "from sklearn.tree import DecisionTreeClassifier, export_graphviz\n",
    "\n",
    "\n",
    "transformed_train = pd.get_dummies(train_data, columns=['Sex'])\n",
    "#Prevent NaN errors, also fill our missing age values with the mean age to \n",
    "#hopefully normalize. If the accuracy is too low, we can tweak this value later\n",
    "transformed_train['Age'] = transformed_train['Age'].fillna(train_data.Age.mean())\n",
    "transformed_test = pd.get_dummies(test_data, columns=['Sex'])\n",
    "transformed_test['Age'] = transformed_test['Age'].fillna(test_data.Age.mean())\n",
    "model = DecisionTreeClassifier(random_state = 1)\n",
    "transformed_train.head()\n",
    "feature_set = ['Sex_female', 'Sex_male', 'Age', 'Pclass']\n",
    "model.fit(transformed_train[feature_set], transformed_train['Survived'])\n",
    "#We have to assign numerical values to our categorial variables to prevent\n",
    "# ValueErros from the DecisionTreeClassifier"
   ]
  },
  {
   "cell_type": "markdown",
   "metadata": {},
   "source": [
    "Our Simple Decision Tree Classifier has been fed the sample data. Note that the number of samples has been reduced to 183 from 891 since we had to drop a lot of NaN age values. Regardless, this provides us a starting point to test our first ML algorithm before looking at further improvements. Generating the predicted values for our test observations looks like: "
   ]
  },
  {
   "cell_type": "code",
   "execution_count": 6,
   "metadata": {},
   "outputs": [
    {
     "name": "stdout",
     "output_type": "stream",
     "text": [
      "             Survived\n",
      "PassengerId          \n",
      "892                 0\n",
      "893                 0\n",
      "894                 1\n",
      "895                 1\n",
      "896                 1\n",
      "897                 0\n",
      "898                 0\n",
      "899                 0\n",
      "900                 0\n",
      "901                 0\n",
      "902                 0\n",
      "903                 0\n",
      "904                 1\n",
      "905                 1\n",
      "906                 1\n",
      "907                 1\n",
      "908                 0\n",
      "909                 0\n",
      "910                 1\n",
      "911                 0\n",
      "912                 0\n",
      "913                 0\n",
      "914                 1\n",
      "915                 0\n",
      "916                 1\n",
      "917                 0\n",
      "918                 1\n",
      "919                 0\n",
      "920                 0\n",
      "921                 0\n",
      "...               ...\n",
      "1280                0\n",
      "1281                1\n",
      "1282                1\n",
      "1283                1\n",
      "1284                1\n",
      "1285                0\n",
      "1286                0\n",
      "1287                1\n",
      "1288                0\n",
      "1289                1\n",
      "1290                0\n",
      "1291                0\n",
      "1292                1\n",
      "1293                0\n",
      "1294                1\n",
      "1295                1\n",
      "1296                1\n",
      "1297                0\n",
      "1298                0\n",
      "1299                0\n",
      "1300                0\n",
      "1301                0\n",
      "1302                0\n",
      "1303                1\n",
      "1304                0\n",
      "1305                0\n",
      "1306                1\n",
      "1307                0\n",
      "1308                0\n",
      "1309                0\n",
      "\n",
      "[418 rows x 1 columns]\n"
     ]
    }
   ],
   "source": [
    "predictedTest = model.predict(transformed_test[feature_set])\n",
    "#Create new df and add to CSV\n",
    "passengers = transformed_test['PassengerId']\n",
    "df2 = pd.DataFrame(predictedTest,passengers,columns = ['Survived'])\n",
    "print(df2)\n",
    "df2.to_csv(\"submit.csv\", index_label = \"PassengerId\")"
   ]
  },
  {
   "cell_type": "markdown",
   "metadata": {},
   "source": [
    "Upon submission, the score of the solution was **0.72727**. We can incestigate possible ways to make this better. For this project, I am going to try one other method. Random forests. In a simple sense, random forests build multiple decision trees and combine them to generate the final result. Before doing that, let us explore additional data for further possible insights. I will include the SibSp, Parch, and Fare variables for further analysis. "
   ]
  },
  {
   "cell_type": "code",
   "execution_count": 7,
   "metadata": {},
   "outputs": [
    {
     "name": "stderr",
     "output_type": "stream",
     "text": [
      "C:\\Users\\Vinnakotas\\Anaconda2\\lib\\site-packages\\sklearn\\ensemble\\weight_boosting.py:29: DeprecationWarning: numpy.core.umath_tests is an internal NumPy module and should not be imported. It will be removed in a future NumPy release.\n",
      "  from numpy.core.umath_tests import inner1d\n"
     ]
    },
    {
     "data": {
      "text/plain": [
       "count    891.000000\n",
       "mean       0.523008\n",
       "std        1.102743\n",
       "min        0.000000\n",
       "25%        0.000000\n",
       "50%        0.000000\n",
       "75%        1.000000\n",
       "max        8.000000\n",
       "Name: SibSp, dtype: float64"
      ]
     },
     "execution_count": 7,
     "metadata": {},
     "output_type": "execute_result"
    }
   ],
   "source": [
    "from sklearn.ensemble import RandomForestClassifier\n",
    "\n",
    "train_data.SibSp.describe()"
   ]
  },
  {
   "cell_type": "code",
   "execution_count": 8,
   "metadata": {},
   "outputs": [
    {
     "data": {
      "text/plain": [
       "count    891.000000\n",
       "mean       0.381594\n",
       "std        0.806057\n",
       "min        0.000000\n",
       "25%        0.000000\n",
       "50%        0.000000\n",
       "75%        0.000000\n",
       "max        6.000000\n",
       "Name: Parch, dtype: float64"
      ]
     },
     "execution_count": 8,
     "metadata": {},
     "output_type": "execute_result"
    }
   ],
   "source": [
    "train_data.Parch.describe()\n"
   ]
  },
  {
   "cell_type": "code",
   "execution_count": 9,
   "metadata": {},
   "outputs": [
    {
     "data": {
      "text/plain": [
       "RandomForestClassifier(bootstrap=True, class_weight=None, criterion='gini',\n",
       "            max_depth=None, max_features='auto', max_leaf_nodes=None,\n",
       "            min_impurity_decrease=0.0, min_impurity_split=None,\n",
       "            min_samples_leaf=1, min_samples_split=2,\n",
       "            min_weight_fraction_leaf=0.0, n_estimators=1000, n_jobs=1,\n",
       "            oob_score=False, random_state=None, verbose=0,\n",
       "            warm_start=False)"
      ]
     },
     "execution_count": 9,
     "metadata": {},
     "output_type": "execute_result"
    }
   ],
   "source": [
    "train_data.Fare.describe()\n",
    "#test_data.Fare.describe()\n",
    "#Test data is missing fare for one passenger. Fill this in \n",
    "transformed_test['Fare'] = transformed_test['Fare'].fillna(transformed_test.Fare.mean())\n",
    "featureSet2 = ['Sex_female', 'Sex_male', 'Age', 'Pclass', 'Fare', 'SibSp', 'Parch']\n",
    "forestPredict = RandomForestClassifier(n_estimators=1000)\n",
    "forestPredict.fit(transformed_train[featureSet2], transformed_train['Survived'])\n"
   ]
  },
  {
   "cell_type": "code",
   "execution_count": 10,
   "metadata": {},
   "outputs": [
    {
     "name": "stdout",
     "output_type": "stream",
     "text": [
      "             Survived\n",
      "PassengerId          \n",
      "892                 0\n",
      "893                 0\n",
      "894                 1\n",
      "895                 1\n",
      "896                 0\n",
      "897                 0\n",
      "898                 0\n",
      "899                 0\n",
      "900                 1\n",
      "901                 0\n",
      "902                 0\n",
      "903                 0\n",
      "904                 1\n",
      "905                 0\n",
      "906                 1\n",
      "907                 1\n",
      "908                 0\n",
      "909                 1\n",
      "910                 0\n",
      "911                 0\n",
      "912                 0\n",
      "913                 1\n",
      "914                 1\n",
      "915                 0\n",
      "916                 1\n",
      "917                 0\n",
      "918                 1\n",
      "919                 1\n",
      "920                 1\n",
      "921                 0\n",
      "...               ...\n",
      "1280                0\n",
      "1281                0\n",
      "1282                0\n",
      "1283                1\n",
      "1284                0\n",
      "1285                0\n",
      "1286                0\n",
      "1287                1\n",
      "1288                0\n",
      "1289                1\n",
      "1290                0\n",
      "1291                0\n",
      "1292                1\n",
      "1293                0\n",
      "1294                1\n",
      "1295                0\n",
      "1296                0\n",
      "1297                0\n",
      "1298                0\n",
      "1299                0\n",
      "1300                0\n",
      "1301                1\n",
      "1302                0\n",
      "1303                1\n",
      "1304                1\n",
      "1305                0\n",
      "1306                1\n",
      "1307                0\n",
      "1308                0\n",
      "1309                0\n",
      "\n",
      "[418 rows x 1 columns]\n"
     ]
    }
   ],
   "source": [
    "passengers = transformed_test['PassengerId']\n",
    "predictedForest =  forestPredict.predict(transformed_test[featureSet2])\n",
    "df2 = pd.DataFrame(predictedForest,passengers,columns = ['Survived'])\n",
    "print(df2)\n",
    "df2.to_csv(\"submit2.csv\", index_label = \"PassengerId\")"
   ]
  },
  {
   "cell_type": "markdown",
   "metadata": {},
   "source": [
    "This returns a slightly improved score of **0.74162**. "
   ]
  },
  {
   "cell_type": "markdown",
   "metadata": {},
   "source": [
    "In conclusion, I obtained a **74%** accuracy score for predicting the survival rate of Titanic Passengers using the methods outlined so far. It is important to note that this is just an initial investigation into analyzing and understanding the data. Further feature scaling is highly important to improve the score. Some ideas include combining the SibSp and Parch rows, filling in the missing ages using grouped averages rather than whole averages, including all variables, assigning weights to our variable, and trying different ML algorithms. "
   ]
  },
  {
   "cell_type": "markdown",
   "metadata": {},
   "source": [
    "#### Sources"
   ]
  },
  {
   "cell_type": "markdown",
   "metadata": {},
   "source": [
    "https://www.kaggle.com/dansbecker/your-first-machine-learning-model\n",
    "\n",
    "https://towardsdatascience.com/types-of-machine-learning-algorithms-you-should-know-953a08248861\n",
    "\n",
    "https://scikit-learn.org/stable/modules/tree.html\n",
    "\n",
    "https://stackoverflow.com/questions/38108832/passing-categorical-data-to-sklearn-decision-tree\n",
    "\n",
    "https://en.wikipedia.org/wiki/Feature_scaling\n",
    "\n",
    "https://scikit-learn.org/stable/modules/generated/sklearn.tree.DecisionTreeClassifier.html\n",
    "\n",
    "https://stackoverflow.com/questions/27817994/visualizing-decision-tree-in-scikit-learn\n",
    "\n",
    "https://hackernoon.com/what-is-one-hot-encoding-why-and-when-do-you-have-to-use-it-e3c6186d008f?gi=486d7bf29d5f\n",
    "\n",
    "https://pandas.pydata.org/pandas-docs/stable/generated/pandas.get_dummies.html"
   ]
  }
 ],
 "metadata": {
  "kernelspec": {
   "display_name": "Python 2",
   "language": "python",
   "name": "python2"
  },
  "language_info": {
   "codemirror_mode": {
    "name": "ipython",
    "version": 2
   },
   "file_extension": ".py",
   "mimetype": "text/x-python",
   "name": "python",
   "nbconvert_exporter": "python",
   "pygments_lexer": "ipython2",
   "version": "2.7.15"
  }
 },
 "nbformat": 4,
 "nbformat_minor": 2
}
